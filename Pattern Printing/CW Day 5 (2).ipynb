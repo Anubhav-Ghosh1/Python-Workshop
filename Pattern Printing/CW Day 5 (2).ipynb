{
 "cells": [
  {
   "cell_type": "code",
   "execution_count": 7,
   "id": "60c3e2a2",
   "metadata": {},
   "outputs": [
    {
     "name": "stdout",
     "output_type": "stream",
     "text": [
      "Enter a number4\n",
      "* * * * \n",
      "\n",
      "* * * * \n",
      "\n",
      "* * * * \n",
      "\n",
      "* * * * \n",
      "\n"
     ]
    }
   ],
   "source": [
    "a = (int)(input(\"Enter a number\"))\n",
    "for b in range(0,4):\n",
    "    for i in range(0,4):\n",
    "        print(\"*\",end = \" \")\n",
    "    print('\\n')"
   ]
  },
  {
   "cell_type": "code",
   "execution_count": 8,
   "id": "f4ed08da",
   "metadata": {},
   "outputs": [
    {
     "name": "stdout",
     "output_type": "stream",
     "text": [
      "Enter a number5\n",
      "0 1 2 3 \n",
      "\n",
      "0 1 2 3 \n",
      "\n",
      "0 1 2 3 \n",
      "\n",
      "0 1 2 3 \n",
      "\n"
     ]
    }
   ],
   "source": [
    "a = (int)(input(\"Enter a number\"))\n",
    "for b in range(0,4):\n",
    "    for i in range(0,4):\n",
    "        print(i,end = \" \")\n",
    "    print('\\n')"
   ]
  },
  {
   "cell_type": "code",
   "execution_count": 9,
   "id": "6f5100ce",
   "metadata": {},
   "outputs": [
    {
     "name": "stdout",
     "output_type": "stream",
     "text": [
      "Enter a number5\n",
      "0 0 0 0 \n",
      "1 1 1 1 \n",
      "2 2 2 2 \n",
      "3 3 3 3 \n"
     ]
    }
   ],
   "source": [
    "a = (int)(input(\"Enter a number\"))\n",
    "for b in range(0,4):\n",
    "    for i in range(0,4):\n",
    "        print(b,end = \" \")\n",
    "    print()"
   ]
  }
 ],
 "metadata": {
  "kernelspec": {
   "display_name": "Python 3 (ipykernel)",
   "language": "python",
   "name": "python3"
  },
  "language_info": {
   "codemirror_mode": {
    "name": "ipython",
    "version": 3
   },
   "file_extension": ".py",
   "mimetype": "text/x-python",
   "name": "python",
   "nbconvert_exporter": "python",
   "pygments_lexer": "ipython3",
   "version": "3.9.12"
  }
 },
 "nbformat": 4,
 "nbformat_minor": 5
}
