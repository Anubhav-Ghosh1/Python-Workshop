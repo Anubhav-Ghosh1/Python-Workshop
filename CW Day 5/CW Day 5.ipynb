{
 "cells": [
  {
   "cell_type": "code",
   "execution_count": 52,
   "id": "2cf3305a",
   "metadata": {},
   "outputs": [
    {
     "name": "stdout",
     "output_type": "stream",
     "text": [
      "Counter({' ': 8, 'o': 4, 'e': 3, 't': 2, 'h': 2, 'u': 2, 'r': 2, 'q': 1, 'i': 1, 'c': 1, 'k': 1, 'b': 1, 'w': 1, 'n': 1, 'f': 1, 'x': 1, 'j': 1, 'm': 1, 'p': 1, 's': 1, 'v': 1, 'l': 1, 'a': 1, 'z': 1, 'y': 1, 'd': 1, 'g': 1})\n"
     ]
    }
   ],
   "source": [
    "from collections import Counter\n",
    "a_string = 'the quick brown fox jumps over the lazy dog'\n",
    "collection = Counter(a_string)\n",
    "print(collection)"
   ]
  },
  {
   "cell_type": "code",
   "execution_count": 7,
   "id": "8af7bdfc",
   "metadata": {},
   "outputs": [
    {
     "name": "stdout",
     "output_type": "stream",
     "text": [
      "Enter a number4\n",
      "* * * * \n",
      "\n",
      "* * * * \n",
      "\n",
      "* * * * \n",
      "\n",
      "* * * * \n",
      "\n"
     ]
    }
   ],
   "source": [
    "a = (int)(input(\"Enter a number\"))\n",
    "for b in range(0,4):\n",
    "    for i in range(0,4):\n",
    "        print(\"*\",end = \" \")\n",
    "    print('\\n')"
   ]
  },
  {
   "cell_type": "code",
   "execution_count": 8,
   "id": "ed26fd54",
   "metadata": {},
   "outputs": [
    {
     "name": "stdout",
     "output_type": "stream",
     "text": [
      "Enter a number5\n",
      "0 1 2 3 \n",
      "\n",
      "0 1 2 3 \n",
      "\n",
      "0 1 2 3 \n",
      "\n",
      "0 1 2 3 \n",
      "\n"
     ]
    }
   ],
   "source": [
    "a = (int)(input(\"Enter a number\"))\n",
    "for b in range(0,4):\n",
    "    for i in range(0,4):\n",
    "        print(i,end = \" \")\n",
    "    print('\\n')"
   ]
  },
  {
   "cell_type": "code",
   "execution_count": 24,
   "id": "6c315fe0",
   "metadata": {},
   "outputs": [
    {
     "name": "stdout",
     "output_type": "stream",
     "text": [
      "\n",
      "* \n",
      "* * \n",
      "* * * \n",
      "* * * * \n",
      "* * * * * \n",
      "* * * * * * \n",
      "* * * * * * * \n",
      "* * * * * * * * \n",
      "* * * * * * * * * \n"
     ]
    }
   ],
   "source": [
    "for b in range(0,10):\n",
    "    for i in range(0,b):\n",
    "        print('*',end = \" \")\n",
    "    print()"
   ]
  },
  {
   "cell_type": "code",
   "execution_count": 31,
   "id": "56edbaee",
   "metadata": {},
   "outputs": [
    {
     "name": "stdout",
     "output_type": "stream",
     "text": [
      "Enter a number7\n",
      "* * * * * * * \n",
      "* * * * * * \n",
      "* * * * * \n",
      "* * * * \n",
      "* * * \n",
      "* * \n",
      "* \n",
      "\n",
      "\n",
      "\n"
     ]
    }
   ],
   "source": [
    "a = (int)(input(\"Enter a number\"))\n",
    "for b in range(0,10):\n",
    "    for i in range(0,a-b):\n",
    "        print('*',end = \" \")\n",
    "    print()"
   ]
  },
  {
   "cell_type": "code",
   "execution_count": null,
   "id": "fd3ea668",
   "metadata": {},
   "outputs": [],
   "source": [
    "# Proposal\n",
    "import turtle\n",
    "name = input(\"Enter your name\")\n",
    "print(\"Y or N\")\n",
    "a = input(\"Enter Your Answer\")\n",
    "print('\\n\\n')\n",
    "print(name)\n",
    "print()\n",
    "if a ==  \"Y\":\n",
    "        print(\"I love you\")\n",
    "        # Import turtle package\n",
    "\n",
    "\n",
    "# Creating a turtle object(pen)\n",
    "pen = turtle.Turtle()\n",
    "\n",
    "# Defining a method to draw curve\n",
    "def curve():\n",
    "            for i in range(200):\n",
    "\n",
    "\t\t# Defining step by step curve motion\n",
    "                    pen.right(1)\n",
    "pen.forward(1)\n",
    "\n",
    "# Defining method to draw a full heart\n",
    "def heart():\n",
    "\n",
    "\t# Set the fill color to red\n",
    "                    pen.fillcolor('red')\n",
    "\n",
    "\t# Start filling the color\n",
    "                    pen.begin_fill()\n",
    "\n",
    "\t# Draw the left line\n",
    "                    pen.left(140)\n",
    "                    pen.forward(113)\n",
    "\n",
    "\t# Draw the left curve\n",
    "                    curve()\n",
    "                    pen.left(120)\n",
    "\n",
    "\t# Draw the right curve\n",
    "                    curve()\n",
    "\n",
    "\t# Draw the right line\n",
    "                    pen.forward(112)\n",
    "\n",
    "\t# Ending the filling of the color\n",
    "                    pen.end_fill()\n",
    "\n",
    "# Defining method to write text\n",
    "def txt():\n",
    "\n",
    "\t# Move turtle to air\n",
    "                    pen.up()\n",
    "\n",
    "\t# Move turtle to a given position\n",
    "                    pen.setpos(-68, 95)\n",
    "\n",
    "\t# Move the turtle to the ground\n",
    "                    pen.down()\n",
    "\n",
    "\t# Set the text color to lightgreen\n",
    "                    pen.color('lightgreen')\n",
    "\n",
    "\t# Write the specified text in\n",
    "                        # specified font style and size\n",
    "                    pen.write(\"GeeksForGeeks\", font=(\n",
    "                    \"Verdana\", 12, \"bold\"))\n",
    "\n",
    "\n",
    "# Draw a heart\n",
    "                    heart()\n",
    "\n",
    "# Write text\n",
    "                    txt()\n",
    "\n",
    "# To hide turtle\n",
    "                    pen.ht()\n",
    "\n",
    "\n"
   ]
  },
  {
   "cell_type": "code",
   "execution_count": 48,
   "id": "6cb15972",
   "metadata": {},
   "outputs": [
    {
     "name": "stdout",
     "output_type": "stream",
     "text": [
      "{'captain', 'america'}\n",
      "<class 'set'>\n"
     ]
    }
   ],
   "source": [
    "# Sets\n",
    "a = {\"captain\",\"america\"}\n",
    "print(a)\n",
    "b = set()\n",
    "print(type(b))"
   ]
  },
  {
   "cell_type": "code",
   "execution_count": 51,
   "id": "ac16ec80",
   "metadata": {},
   "outputs": [
    {
     "name": "stdout",
     "output_type": "stream",
     "text": [
      "dict_keys(['Tony', 'Stark', 'Iron', 'Man'])\n",
      "{'Tony': 'Replaced', 'Stark': 2, 'Iron': 3, 'Man': 4}\n"
     ]
    }
   ],
   "source": [
    "a = {'Tony':1,'Stark':2,'Iron':3,'Man':4}\n",
    "print(a.keys())\n",
    "a.values()\n",
    "a[\"Tony\"] = \"Replaced\"\n",
    "print(a)"
   ]
  },
  {
   "cell_type": "code",
   "execution_count": 61,
   "id": "6927184f",
   "metadata": {},
   "outputs": [
    {
     "name": "stdout",
     "output_type": "stream",
     "text": [
      "{'c': 1, '+': 2}\n"
     ]
    }
   ],
   "source": [
    "a = 'c++'\n",
    "b = {}\n",
    "for i in a:\n",
    "    if i in b:\n",
    "        b[i] += 1\n",
    "    else:\n",
    "        b[i] = 1\n",
    "print(b)\n",
    "# Dictionary is unordered\n"
   ]
  },
  {
   "cell_type": "code",
   "execution_count": null,
   "id": "ceaec53d",
   "metadata": {},
   "outputs": [],
   "source": []
  }
 ],
 "metadata": {
  "kernelspec": {
   "display_name": "Python 3 (ipykernel)",
   "language": "python",
   "name": "python3"
  },
  "language_info": {
   "codemirror_mode": {
    "name": "ipython",
    "version": 3
   },
   "file_extension": ".py",
   "mimetype": "text/x-python",
   "name": "python",
   "nbconvert_exporter": "python",
   "pygments_lexer": "ipython3",
   "version": "3.9.12"
  }
 },
 "nbformat": 4,
 "nbformat_minor": 5
}
