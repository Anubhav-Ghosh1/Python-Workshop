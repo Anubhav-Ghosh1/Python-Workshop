{
 "cells": [
  {
   "cell_type": "code",
   "execution_count": null,
   "metadata": {},
   "outputs": [],
   "source": [
    "int_rom = [(1000,'M'),(900,'CM'),(500,'D'),(400,'CD'),(100,'C'),(90,'XC'),(50,'L'),\n",
    "           (40,'XL'),(10,'X'),(5,'V'),(4,'IV'),(3,'III'),(2,'II'),(1,'I')]\n",
    "num = int(input('Enter a number: '))\n",
    "roman = ''\n",
    "while num > 0:\n",
    "    for i, r in int_rom:\n",
    "                while num>=i:\n",
    "                    roman += r\n",
    "                    num -= i\n",
    "print('The roman value is: ',roman)"
   ]
  }
 ],
 "metadata": {
  "language_info": {
   "name": "python"
  },
  "orig_nbformat": 4
 },
 "nbformat": 4,
 "nbformat_minor": 2
}
